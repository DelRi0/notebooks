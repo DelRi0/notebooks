{
  "cells": [
    {
      "cell_type": "markdown",
      "metadata": {
        "id": "view-in-github",
        "colab_type": "text"
      },
      "source": [
        "<a href=\"https://colab.research.google.com/github/DelRi0/notebooks/blob/master/WAITprompt.ipynb\" target=\"_parent\"><img src=\"https://colab.research.google.com/assets/colab-badge.svg\" alt=\"Open In Colab\"/></a>"
      ]
    },
    {
      "cell_type": "markdown",
      "metadata": {
        "id": "tNzvaoFHhBJR"
      },
      "source": [
        "# Visualize the downloaded EfficientDet model"
      ]
    },
    {
      "cell_type": "code",
      "source": [
        "pip install -U \"jax[tpu]\" -f https://storage.googleapis.com/jax-releases/libtpu_releases.html"
      ],
      "metadata": {
        "id": "itVCTqO9Xm1t"
      },
      "execution_count": null,
      "outputs": []
    },
    {
      "cell_type": "markdown",
      "source": [
        "=========================================================================================================="
      ],
      "metadata": {
        "id": "fCw-HfRO_Rpm"
      }
    },
    {
      "cell_type": "code",
      "source": [
        "pip install -U -q google-generativeai"
      ],
      "metadata": {
        "id": "449uhkDg_ZXZ"
      },
      "execution_count": null,
      "outputs": []
    },
    {
      "cell_type": "code",
      "source": [
        "try:\n",
        "    # Used to securely store your API key\n",
        "    from google.colab import userdata\n",
        "\n",
        "    # Or use `os.getenv('API_KEY')` to fetch an environment variable.\n",
        "    GOOGLE_API_KEY=userdata.get('API_KEY')\n",
        "except ImportError:\n",
        "    import os\n",
        "    os.getenv('GOOGLE_API_KEY')\n",
        "    GOOGLE_API_KEY = os.environ['GOOGLE_API_KEY']\n",
        "\n",
        "genai.configure(api_key=GOOGLE_API_KEY)"
      ],
      "metadata": {
        "id": "MU1DWWAt_wNb"
      },
      "execution_count": null,
      "outputs": []
    },
    {
      "source": [
        "!pip install pypdf\n",
        "import pypdf\n",
        "\n",
        "with open('/content/datas/RAND_TL129.pdf', 'rb') as pdf_file:\n",
        "  reader = pypdf.PdfReader(pdf_file)  # Use PdfReader instead of BufferedReader\n",
        "  extracted_text = \"\"\n",
        "  num_pages = len(reader.pages)  # Get number of pages\n",
        "  for page_num in range(num_pages):\n",
        "    page = reader.pages[page_num]\n",
        "    extracted_text += page.extract_text()\n",
        "\n",
        "# Now you can work with the 'extracted_text'\n",
        "#print(extracted_text)\n",
        "\n",
        "# For CSV\n",
        "import pandas as pd\n",
        "csv_data = pd.read_csv('/content/datas/preprocessed_wargame_data.csv')"
      ],
      "cell_type": "code",
      "metadata": {
        "id": "KaL9wDY1RW7D"
      },
      "execution_count": null,
      "outputs": []
    },
    {
      "source": [
        "prompt = f\"Analyze this PDF content: {extracted_text[:1500]} ... and this CSV data: {csv_data.head()}\"\n",
        "    # Send 'prompt' to your language model API"
      ],
      "cell_type": "code",
      "metadata": {
        "id": "vlneZ8HUTL5L"
      },
      "execution_count": null,
      "outputs": []
    }
  ],
  "metadata": {
    "colab": {
      "collapsed_sections": [
        "vCM_sxQsg2nj",
        "nSHa2LHCg7Gz",
        "tNzvaoFHhBJR",
        "Q3aMYkE6HMPM"
      ],
      "private_outputs": true,
      "provenance": [],
      "include_colab_link": true
    },
    "kernelspec": {
      "display_name": "Python 3",
      "name": "python3"
    },
    "language_info": {
      "name": "python"
    }
  },
  "nbformat": 4,
  "nbformat_minor": 0
}